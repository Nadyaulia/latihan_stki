{
  "nbformat": 4,
  "nbformat_minor": 0,
  "metadata": {
    "colab": {
      "provenance": [],
      "authorship_tag": "ABX9TyOwaIkCPzKfe5W1zrD4tdyi",
      "include_colab_link": true
    },
    "kernelspec": {
      "name": "python3",
      "display_name": "Python 3"
    },
    "language_info": {
      "name": "python"
    }
  },
  "cells": [
    {
      "cell_type": "markdown",
      "metadata": {
        "id": "view-in-github",
        "colab_type": "text"
      },
      "source": [
        "<a href=\"https://colab.research.google.com/github/Nadyaulia/latihan_stki/blob/main/word2vec.ipynb\" target=\"_parent\"><img src=\"https://colab.research.google.com/assets/colab-badge.svg\" alt=\"Open In Colab\"/></a>"
      ]
    },
    {
      "cell_type": "code",
      "execution_count": 8,
      "metadata": {
        "colab": {
          "base_uri": "https://localhost:8080/"
        },
        "id": "TiSy8j3huCoz",
        "outputId": "b6fac70d-de46-4063-db13-6764276f0268"
      },
      "outputs": [
        {
          "output_type": "stream",
          "name": "stdout",
          "text": [
            "[1 0 1 0 0 0]\n",
            "[[0.37454012 0.95071431 0.73199394 0.59865848 0.15601864]\n",
            " [0.15599452 0.05808361 0.86617615 0.60111501 0.70807258]\n",
            " [0.02058449 0.96990985 0.83244264 0.21233911 0.18182497]\n",
            " [0.18340451 0.30424224 0.52475643 0.43194502 0.29122914]\n",
            " [0.61185289 0.13949386 0.29214465 0.36636184 0.45606998]\n",
            " [0.78517596 0.19967378 0.51423444 0.59241457 0.04645041]]\n",
            "[0.39512461 1.92062416 1.56443658 0.81099759 0.33784361]\n",
            "[[0.60754485 0.17052412 0.06505159 0.94888554 0.96563203 0.80839735]\n",
            " [0.30461377 0.09767211 0.68423303 0.44015249 0.12203823 0.49517691]\n",
            " [0.03438852 0.9093204  0.25877998 0.66252228 0.31171108 0.52006802]\n",
            " [0.54671028 0.18485446 0.96958463 0.77513282 0.93949894 0.89482735]\n",
            " [0.59789998 0.92187424 0.0884925  0.19598286 0.04522729 0.32533033]]\n",
            "[1.52428056 2.13890964 2.56093026 2.95161205 1.88079791 2.91969347]\n"
          ]
        }
      ],
      "source": [
        "import numpy as np\n",
        "np.random.seed(42)\n",
        "v_revenge = np.array([1,0,1,0,0,0]) #\"revenge\"\n",
        "print(v_revenge)\n",
        "\n",
        "weight = np.random.random_sample((6,5))\n",
        "print(weight)\n",
        "\n",
        "hidden_layer_sg = np.dot(v_revenge,weight)\n",
        "print(hidden_layer_sg)\n",
        "\n",
        "weight_prime = np.random.random_sample((5,6))\n",
        "print(weight_prime)\n",
        "\n",
        "o_the = np.dot(hidden_layer_sg, weight_prime)\n",
        "print(o_the)"
      ]
    },
    {
      "cell_type": "code",
      "source": [
        "v_the = np.array([1,0,1,0,0,0])\n",
        "print(v_the)\n",
        "\n",
        "hidden_layer_cbow = np.dot(v_the,weight)\n",
        "print(hidden_layer_cbow)\n",
        "\n",
        "o_revenge = np.dot(hidden_layer_cbow, weight_prime)\n",
        "print(o_revenge)\n"
      ],
      "metadata": {
        "colab": {
          "base_uri": "https://localhost:8080/"
        },
        "id": "9fialucgyU8E",
        "outputId": "5efb3dd8-d837-43c3-f013-3ca9d668d6e6"
      },
      "execution_count": 9,
      "outputs": [
        {
          "output_type": "stream",
          "name": "stdout",
          "text": [
            "[1 0 1 0 0 0]\n",
            "[0.39512461 1.92062416 1.56443658 0.81099759 0.33784361]\n",
            "[1.52428056 2.13890964 2.56093026 2.95161205 1.88079791 2.91969347]\n"
          ]
        }
      ]
    }
  ]
}